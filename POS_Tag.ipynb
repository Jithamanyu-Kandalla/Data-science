{
  "nbformat": 4,
  "nbformat_minor": 0,
  "metadata": {
    "colab": {
      "provenance": []
    },
    "kernelspec": {
      "name": "python3",
      "display_name": "Python 3"
    },
    "language_info": {
      "name": "python"
    }
  },
  "cells": [
    {
      "cell_type": "code",
      "source": [
        "import nltk\n",
        "from nltk import word_tokenize, pos_tag\n",
        "\n",
        "# Download the 'punkt' resource\n",
        "nltk.download('punkt')\n",
        "\n",
        "# Download the 'averaged_perceptron_tagger' resource\n",
        "nltk.download('averaged_perceptron_tagger') # Download the missing resource\n",
        "\n",
        "# The sentence to analyze\n",
        "sentence = \"Machine learning models require large datasets for accurate predictions.\"\n",
        "\n",
        "# Perform POS tagging\n",
        "tokens = word_tokenize(sentence)\n",
        "pos_tags = pos_tag(tokens)\n",
        "\n",
        "# Dictionary of common POS tag descriptions\n",
        "pos_descriptions = {\n",
        "    'NN': 'Noun, singular',\n",
        "    'NNS': 'Noun, plural',\n",
        "    'VBP': 'Verb, non-3rd person singular present',\n",
        "    'JJ': 'Adjective',\n",
        "    'IN': 'Preposition',\n",
        "    'DT': 'Determiner'\n",
        "}\n",
        "\n",
        "# Print detailed analysis\n",
        "print(\"Detailed POS Tag Analysis:\\n\")\n",
        "print(f\"Original sentence: {sentence}\\n\")\n",
        "print(f\"{'Word':<15} {'POS Tag':<10} {'Description':<30} {'Explanation'}\")\n",
        "print(\"-\" * 70)\n",
        "\n",
        "for word, tag in pos_tags:\n",
        "    description = pos_descriptions.get(tag, tag)\n",
        "\n",
        "    # Provide specific explanations for each word\n",
        "    explanation = {\n",
        "        'Machine': \"Part of compound noun 'machine learning'\",\n",
        "        'learning': \"Part of compound noun 'machine learning'\",\n",
        "        'models': \"Plural noun, subject of the sentence\",\n",
        "        'require': \"Verb showing what the models need\",\n",
        "        'large': \"Adjective describing 'datasets'\",\n",
        "        'datasets': \"Plural noun, object of the verb\",\n",
        "        'for': \"Preposition connecting to purpose\",\n",
        "        'accurate': \"Adjective describing 'predictions'\",\n",
        "        'predictions': \"Plural noun, indicating the outcome\",\n",
        "        '.': \"Sentence-ending punctuation\"\n",
        "    }.get(word, \"\")\n",
        "\n",
        "    print(f\"{word:<15} {tag:<10} {description:<30} {explanation}\")\n",
        "\n",
        "# Summary statistics\n",
        "tag_counts = {}\n",
        "for _, tag in pos_tags:\n",
        "    tag_counts[tag] = tag_counts.get(tag, 0) + 1\n",
        "\n",
        "print(\"\\nPOS Tag Distribution:\")\n",
        "for tag, count in tag_counts.items():\n",
        "    print(f\"{tag}: {count} occurrence(s)\")"
      ],
      "metadata": {
        "colab": {
          "base_uri": "https://localhost:8080/"
        },
        "id": "1wExLsVYr9-n",
        "outputId": "42d5a955-063b-4373-9aed-33a622833600"
      },
      "execution_count": 3,
      "outputs": [
        {
          "output_type": "stream",
          "name": "stderr",
          "text": [
            "[nltk_data] Downloading package punkt to /root/nltk_data...\n",
            "[nltk_data]   Package punkt is already up-to-date!\n",
            "[nltk_data] Downloading package averaged_perceptron_tagger to\n",
            "[nltk_data]     /root/nltk_data...\n"
          ]
        },
        {
          "output_type": "stream",
          "name": "stdout",
          "text": [
            "Detailed POS Tag Analysis:\n",
            "\n",
            "Original sentence: Machine learning models require large datasets for accurate predictions.\n",
            "\n",
            "Word            POS Tag    Description                    Explanation\n",
            "----------------------------------------------------------------------\n",
            "Machine         NN         Noun, singular                 Part of compound noun 'machine learning'\n",
            "learning        NN         Noun, singular                 Part of compound noun 'machine learning'\n",
            "models          NNS        Noun, plural                   Plural noun, subject of the sentence\n",
            "require         VBP        Verb, non-3rd person singular present Verb showing what the models need\n",
            "large           JJ         Adjective                      Adjective describing 'datasets'\n",
            "datasets        NNS        Noun, plural                   Plural noun, object of the verb\n",
            "for             IN         Preposition                    Preposition connecting to purpose\n",
            "accurate        JJ         Adjective                      Adjective describing 'predictions'\n",
            "predictions     NNS        Noun, plural                   Plural noun, indicating the outcome\n",
            ".               .          .                              Sentence-ending punctuation\n",
            "\n",
            "POS Tag Distribution:\n",
            "NN: 2 occurrence(s)\n",
            "NNS: 3 occurrence(s)\n",
            "VBP: 1 occurrence(s)\n",
            "JJ: 2 occurrence(s)\n",
            "IN: 1 occurrence(s)\n",
            ".: 1 occurrence(s)\n"
          ]
        },
        {
          "output_type": "stream",
          "name": "stderr",
          "text": [
            "[nltk_data]   Unzipping taggers/averaged_perceptron_tagger.zip.\n"
          ]
        }
      ]
    }
  ]
}