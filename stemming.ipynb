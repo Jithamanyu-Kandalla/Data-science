{
  "nbformat": 4,
  "nbformat_minor": 0,
  "metadata": {
    "colab": {
      "provenance": []
    },
    "kernelspec": {
      "name": "python3",
      "display_name": "Python 3"
    },
    "language_info": {
      "name": "python"
    }
  },
  "cells": [
    {
      "cell_type": "code",
      "execution_count": 1,
      "metadata": {
        "colab": {
          "base_uri": "https://localhost:8080/"
        },
        "id": "b5xLNulHlM2c",
        "outputId": "9d795202-a061-484d-cf1e-4ed079fd2f03"
      },
      "outputs": [
        {
          "output_type": "stream",
          "name": "stdout",
          "text": [
            "Stemming Comparison:\n",
            "\n",
            "Original Word   Porter       Lancaster    Snowball    \n",
            "---------------------------------------------------\n",
            "improving       improv       improv       improv      \n",
            "processed       process      process      process     \n",
            "arguing         argu         argu         argu        \n",
            "analysis        analysi      analys       analysi     \n",
            "\n",
            "Detailed Analysis:\n",
            "\n",
            "Word: improving\n",
            "Porter Stemmer   → improv\n",
            "Lancaster Stemmer→ improv\n",
            "Snowball Stemmer → improv\n",
            "\n",
            "Word: processed\n",
            "Porter Stemmer   → process\n",
            "Lancaster Stemmer→ process\n",
            "Snowball Stemmer → process\n",
            "\n",
            "Word: arguing\n",
            "Porter Stemmer   → argu\n",
            "Lancaster Stemmer→ argu\n",
            "Snowball Stemmer → argu\n",
            "\n",
            "Word: analysis\n",
            "Porter Stemmer   → analysi\n",
            "Lancaster Stemmer→ analys\n",
            "Snowball Stemmer → analysi\n"
          ]
        }
      ],
      "source": [
        "from nltk.stem import PorterStemmer, LancasterStemmer, SnowballStemmer\n",
        "\n",
        "# Initialize stemmers\n",
        "porter = PorterStemmer()\n",
        "lancaster = LancasterStemmer()\n",
        "snowball = SnowballStemmer('english')\n",
        "\n",
        "# Words to stem\n",
        "words = [\"improving\", \"processed\", \"arguing\", \"analysis\"]\n",
        "\n",
        "# Function to compare stemmers\n",
        "def compare_stemmers(words):\n",
        "    print(f\"{'Original Word':<15} {'Porter':<12} {'Lancaster':<12} {'Snowball':<12}\")\n",
        "    print(\"-\" * 51)\n",
        "\n",
        "    for word in words:\n",
        "        porter_stem = porter.stem(word)\n",
        "        lancaster_stem = lancaster.stem(word)\n",
        "        snowball_stem = snowball.stem(word)\n",
        "        print(f\"{word:<15} {porter_stem:<12} {lancaster_stem:<12} {snowball_stem:<12}\")\n",
        "\n",
        "# Perform comparison\n",
        "print(\"Stemming Comparison:\\n\")\n",
        "compare_stemmers(words)\n",
        "\n",
        "# Additional analysis\n",
        "print(\"\\nDetailed Analysis:\")\n",
        "for word in words:\n",
        "    print(f\"\\nWord: {word}\")\n",
        "    print(f\"Porter Stemmer   → {porter.stem(word)}\")\n",
        "    print(f\"Lancaster Stemmer→ {lancaster.stem(word)}\")\n",
        "    print(f\"Snowball Stemmer → {snowball.stem(word)}\")"
      ]
    }
  ]
}