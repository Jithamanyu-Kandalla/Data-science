{
  "nbformat": 4,
  "nbformat_minor": 0,
  "metadata": {
    "colab": {
      "provenance": []
    },
    "kernelspec": {
      "name": "python3",
      "display_name": "Python 3"
    },
    "language_info": {
      "name": "python"
    }
  },
  "cells": [
    {
      "cell_type": "code",
      "execution_count": 1,
      "metadata": {
        "colab": {
          "base_uri": "https://localhost:8080/"
        },
        "id": "SYXSxwsE0OW5",
        "outputId": "4bd134d9-d4d3-4de5-deed-0718ff9437fb"
      },
      "outputs": [
        {
          "output_type": "stream",
          "name": "stdout",
          "text": [
            "Text: The project outcome was highly satisfying, and the team did an excellent job.\n",
            "Sentiment: Polarity=0.75, Subjectivity=1.0\n",
            "\n",
            "Text: The service was terrible, and the support was unresponsive.\n",
            "Sentiment: Polarity=-1.0, Subjectivity=1.0\n",
            "\n"
          ]
        }
      ],
      "source": [
        "from textblob import TextBlob\n",
        "\n",
        "# Define the texts for sentiment analysis\n",
        "texts = [\n",
        "    \"The project outcome was highly satisfying, and the team did an excellent job.\",\n",
        "    \"The service was terrible, and the support was unresponsive.\"\n",
        "]\n",
        "\n",
        "# Analyze sentiment for each text\n",
        "for text in texts:\n",
        "    blob = TextBlob(text)\n",
        "    sentiment = blob.sentiment\n",
        "    print(f\"Text: {text}\")\n",
        "    print(f\"Sentiment: Polarity={sentiment.polarity}, Subjectivity={sentiment.subjectivity}\\n\")\n"
      ]
    }
  ]
}