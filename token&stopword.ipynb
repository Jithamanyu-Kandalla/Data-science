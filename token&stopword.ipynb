{
  "nbformat": 4,
  "nbformat_minor": 0,
  "metadata": {
    "colab": {
      "provenance": []
    },
    "kernelspec": {
      "name": "python3",
      "display_name": "Python 3"
    },
    "language_info": {
      "name": "python"
    }
  },
  "cells": [
    {
      "cell_type": "code",
      "source": [
        "import nltk\n",
        "from nltk.tokenize import word_tokenize, sent_tokenize\n",
        "from nltk.corpus import stopwords\n",
        "\n",
        "# Download the 'punkt' resource for sentence tokenization\n",
        "nltk.download('punkt')\n",
        "\n",
        "# Download the 'stopwords' resource\n",
        "nltk.download('stopwords') # Download the stopwords resource\n",
        "\n",
        "# The text to be processed\n",
        "text = \"Data science is an interdisciplinary field that uses scientific methods, processes, algorithms, and systems to extract knowledge from data.\"\n",
        "\n",
        "# 1. Sentence Tokenization\n",
        "sentences = sent_tokenize(text)\n",
        "print(\"1. Sentence Tokenization:\")\n",
        "for i, sentence in enumerate(sentences, 1):\n",
        "    print(f\"Sentence {i}: {sentence}\")\n",
        "\n",
        "# 2. Word Tokenization\n",
        "words = word_tokenize(text)\n",
        "print(\"\\n2. Word Tokenization:\")\n",
        "print(f\"Word tokens: {words}\")\n",
        "print(f\"Number of tokens: {len(words)}\")\n",
        "\n",
        "# 3. Stopword Removal\n",
        "stop_words = set(stopwords.words('english'))\n",
        "filtered_words = [word for word in words if word.lower() not in stop_words]\n",
        "print(\"\\n3. After Stopword Removal:\")\n",
        "print(f\"Filtered tokens: {filtered_words}\")\n",
        "print(f\"Number of tokens after stopword removal: {len(filtered_words)}\")\n",
        "\n",
        "# Additional Analysis\n",
        "print(\"\\nSummary:\")\n",
        "print(f\"Number of sentences: {len(sentences)}\")\n",
        "print(f\"Number of words before stopword removal: {len(words)}\")\n",
        "print(f\"Number of words after stopword removal: {len(filtered_words)}\")\n",
        "print(f\"Number of stopwords removed: {len(words) - len(filtered_words)}\")\n",
        "print(f\"Percentage of words that were stopwords: {((len(words) - len(filtered_words)) / len(words)) * 100:.1f}%\")\n",
        "\n",
        "# Display removed stopwords\n",
        "removed_words = [word for word in words if word.lower() in stop_words]\n",
        "print(f\"\\nStopwords removed: {removed_words}\")"
      ],
      "metadata": {
        "colab": {
          "base_uri": "https://localhost:8080/"
        },
        "id": "Rms5npdtksTW",
        "outputId": "7871de14-b593-4b4d-f479-4d059b7ae5f8"
      },
      "execution_count": 3,
      "outputs": [
        {
          "output_type": "stream",
          "name": "stdout",
          "text": [
            "1. Sentence Tokenization:\n",
            "Sentence 1: Data science is an interdisciplinary field that uses scientific methods, processes, algorithms, and systems to extract knowledge from data.\n",
            "\n",
            "2. Word Tokenization:\n",
            "Word tokens: ['Data', 'science', 'is', 'an', 'interdisciplinary', 'field', 'that', 'uses', 'scientific', 'methods', ',', 'processes', ',', 'algorithms', ',', 'and', 'systems', 'to', 'extract', 'knowledge', 'from', 'data', '.']\n",
            "Number of tokens: 23\n",
            "\n",
            "3. After Stopword Removal:\n",
            "Filtered tokens: ['Data', 'science', 'interdisciplinary', 'field', 'uses', 'scientific', 'methods', ',', 'processes', ',', 'algorithms', ',', 'systems', 'extract', 'knowledge', 'data', '.']\n",
            "Number of tokens after stopword removal: 17\n",
            "\n",
            "Summary:\n",
            "Number of sentences: 1\n",
            "Number of words before stopword removal: 23\n",
            "Number of words after stopword removal: 17\n",
            "Number of stopwords removed: 6\n",
            "Percentage of words that were stopwords: 26.1%\n",
            "\n",
            "Stopwords removed: ['is', 'an', 'that', 'and', 'to', 'from']\n"
          ]
        },
        {
          "output_type": "stream",
          "name": "stderr",
          "text": [
            "[nltk_data] Downloading package punkt to /root/nltk_data...\n",
            "[nltk_data]   Package punkt is already up-to-date!\n",
            "[nltk_data] Downloading package stopwords to /root/nltk_data...\n",
            "[nltk_data]   Unzipping corpora/stopwords.zip.\n"
          ]
        }
      ]
    }
  ]
}